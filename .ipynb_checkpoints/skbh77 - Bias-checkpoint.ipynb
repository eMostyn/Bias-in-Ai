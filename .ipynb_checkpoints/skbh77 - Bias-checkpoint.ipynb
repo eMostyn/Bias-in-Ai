{
 "cells": [
  {
   "cell_type": "code",
   "execution_count": 361,
   "id": "cubic-encounter",
   "metadata": {},
   "outputs": [],
   "source": [
    "import pandas as pd\n",
    "import numpy as np\n",
    "import sklearn.preprocessing as sklPp\n",
    "import os\n",
    "from sklearn.metrics import matthews_corrcoef,accuracy_score\n",
    "from sklearn.model_selection import train_test_split,GridSearchCV\n",
    "from sklearn.linear_model import LogisticRegression,PassiveAggressiveClassifier,SGDClassifier,RidgeClassifier\n",
    "from sklearn.tree import DecisionTreeClassifier\n",
    "from sklearn.neural_network import MLPClassifier\n",
    "from sklearn.ensemble import RandomForestClassifier, AdaBoostClassifier\n",
    "import matplotlib.pyplot as plt\n",
    "%matplotlib inline\n",
    "from sklearn import tree\n",
    "from sklearn.naive_bayes import GaussianNB\n",
    "from sklearn.discriminant_analysis import QuadraticDiscriminantAnalysis\n",
    "from sklearn.neighbors import KNeighborsClassifier\n",
    "from sklearn.gaussian_process import GaussianProcessClassifier\n",
    "from statistics import NormalDist\n",
    "from BlackBoxAuditing.repairers.GeneralRepairer import Repairer\n",
    "from scipy import stats \n",
    "\n",
    "def warn(*args, **kwargs):\n",
    "    pass\n",
    "import warnings\n",
    "warnings.warn = warn"
   ]
  },
  {
   "cell_type": "markdown",
   "id": "impressed-ballet",
   "metadata": {},
   "source": [
    "<p>The data set split the data into a training and test sets, considering we may want to allocate those ourselves later we will combine the two.</p>"
   ]
  },
  {
   "cell_type": "code",
   "execution_count": 549,
   "id": "hollow-capability",
   "metadata": {},
   "outputs": [
    {
     "name": "stdout",
     "output_type": "stream",
     "text": [
      "   Age          Workclass  Final Weight   Education  Education_Num  \\\n",
      "0   39          State-gov         77516   Bachelors             13   \n",
      "1   50   Self-emp-not-inc         83311   Bachelors             13   \n",
      "2   38            Private        215646     HS-grad              9   \n",
      "3   53            Private        234721        11th              7   \n",
      "4   28            Private        338409   Bachelors             13   \n",
      "\n",
      "        Marital-status          Occupation    Relationship    Race      Sex  \\\n",
      "0        Never-married        Adm-clerical   Not-in-family   White     Male   \n",
      "1   Married-civ-spouse     Exec-managerial         Husband   White     Male   \n",
      "2             Divorced   Handlers-cleaners   Not-in-family   White     Male   \n",
      "3   Married-civ-spouse   Handlers-cleaners         Husband   Black     Male   \n",
      "4   Married-civ-spouse      Prof-specialty            Wife   Black   Female   \n",
      "\n",
      "   Capital-gain  Capital-loss  Hours/week  Native_Country  Result  \n",
      "0          2174             0          40   United-States   <=50K  \n",
      "1             0             0          13   United-States   <=50K  \n",
      "2             0             0          40   United-States   <=50K  \n",
      "3             0             0          40   United-States   <=50K  \n",
      "4             0             0          40            Cuba   <=50K  \n"
     ]
    }
   ],
   "source": [
    "data = pd.read_csv('https://archive.ics.uci.edu/ml/machine-learning-databases/adult/adult.data',header=None)\n",
    "test  = pd.read_csv('https://archive.ics.uci.edu/ml/machine-learning-databases/adult/adult.test',skiprows=[0],sep=',', header=None)\n",
    "data = data.append(test)\n",
    "data.rename(columns={0: \"Age\",1: \"Workclass\",2:\"Final Weight\",3:\"Education\",4:\"Education_Num\",5:\"Marital-status\",6:\"Occupation\",7:\"Relationship\",8:\"Race\",9:\"Sex\",10:\"Capital-gain\",11:\"Capital-loss\",12:\"Hours/week\",13:\"Native_Country\",14:\"Result\"},inplace = \"True\")\n",
    "print(data.head(5))\n"
   ]
  },
  {
   "cell_type": "code",
   "execution_count": 538,
   "id": "attempted-department",
   "metadata": {},
   "outputs": [],
   "source": [
    "def cleanData(data):\n",
    "    #Drop these columns as the data is mainly irrelevant.\n",
    "    data.drop(['Capital-gain','Capital-loss',\"Final Weight\",\"Education\"],axis =1,inplace = True)\n",
    "    #Remove all rows where data is missing.\n",
    "    for column in data.columns:\n",
    "        #In the object columns, ? is used as NaN so remove them\n",
    "        if data[column].dtypes == \"object\":\n",
    "            data.drop(data[(data[column] == \" ?\")].index,inplace = True)\n",
    "        #Remove any NaN values\n",
    "        data = data[data[column].notnull()]\n",
    "    data['Result'] = data['Result'].str.replace(\">50K.\",\">50K\")\n",
    "    data['Result'] = data['Result'].str.replace(\"<=50K.\",\"<=50K\")\n",
    "    #Reset index \n",
    "    data.reset_index(drop=True, inplace=True)\n",
    "    return data"
   ]
  },
  {
   "cell_type": "code",
   "execution_count": 539,
   "id": "specialized-grave",
   "metadata": {},
   "outputs": [],
   "source": [
    "def createCombined(data):\n",
    "    #To allow for analysis of multiple sensitive attributes, create a shared column\n",
    "    data['Sex_Race'] = data['Sex']+data['Race']\n",
    "    #Remove the old columns\n",
    "    data.drop(['Sex','Race'],axis = 1,inplace = True)\n",
    "    return data"
   ]
  },
  {
   "cell_type": "code",
   "execution_count": 550,
   "id": "chronic-depth",
   "metadata": {
    "scrolled": true
   },
   "outputs": [
    {
     "name": "stdout",
     "output_type": "stream",
     "text": [
      "Cleaned \n",
      "    Age          Workclass  Education_Num       Marital-status  \\\n",
      "0   39          State-gov             13        Never-married   \n",
      "1   50   Self-emp-not-inc             13   Married-civ-spouse   \n",
      "2   38            Private              9             Divorced   \n",
      "3   53            Private              7   Married-civ-spouse   \n",
      "4   37            Private             14   Married-civ-spouse   \n",
      "\n",
      "           Occupation    Relationship    Race      Sex  Hours/week  \\\n",
      "0        Adm-clerical   Not-in-family   White     Male          40   \n",
      "1     Exec-managerial         Husband   White     Male          13   \n",
      "2   Handlers-cleaners   Not-in-family   White     Male          40   \n",
      "3   Handlers-cleaners         Husband   Black     Male          40   \n",
      "4     Exec-managerial            Wife   White   Female          40   \n",
      "\n",
      "   Native_Country  Result  \n",
      "0   United-States   <=50K  \n",
      "1   United-States   <=50K  \n",
      "2   United-States   <=50K  \n",
      "3   United-States   <=50K  \n",
      "4   United-States   <=50K  \n",
      "\n",
      "\n",
      "Combined \n",
      "    Age          Workclass  Education_Num       Marital-status  \\\n",
      "0   39          State-gov             13        Never-married   \n",
      "1   50   Self-emp-not-inc             13   Married-civ-spouse   \n",
      "2   38            Private              9             Divorced   \n",
      "3   53            Private              7   Married-civ-spouse   \n",
      "4   37            Private             14   Married-civ-spouse   \n",
      "\n",
      "           Occupation    Relationship  Hours/week  Native_Country  Result  \\\n",
      "0        Adm-clerical   Not-in-family          40   United-States   <=50K   \n",
      "1     Exec-managerial         Husband          13   United-States   <=50K   \n",
      "2   Handlers-cleaners   Not-in-family          40   United-States   <=50K   \n",
      "3   Handlers-cleaners         Husband          40   United-States   <=50K   \n",
      "4     Exec-managerial            Wife          40   United-States   <=50K   \n",
      "\n",
      "        Sex_Race  \n",
      "0     Male White  \n",
      "1     Male White  \n",
      "2     Male White  \n",
      "3     Male Black  \n",
      "4   Female White  \n"
     ]
    }
   ],
   "source": [
    "cleaned = cleanData(data)\n",
    "print(\"Cleaned \\n\",cleaned.head(5))\n",
    "print(\"\\n\")\n",
    "combined = createCombined(cleaned)\n",
    "print(\"Combined \\n\",combined.head(5))\n"
   ]
  },
  {
   "cell_type": "code",
   "execution_count": 438,
   "id": "looking-hawaii",
   "metadata": {},
   "outputs": [],
   "source": [
    "def analyseData(data):\n",
    "    for sexRace in data['Sex_Race'].unique():\n",
    "        demographicData = data.loc[data['Sex_Race'] == sexRace]\n",
    "        #print(demographicData)\n",
    "        print(sexRace)\n",
    "        print(\"Size:\",len(demographicData.index))\n",
    "        print(\"Avg Age:\", demographicData[\"Age\"].mean())\n",
    "        print(\"Mode Workclass:\", demographicData[\"Workclass\"].mode())\n",
    "        print(\"Mode Education Num:\", demographicData[\"Education_Num\"].mode())\n",
    "        print(\"Mode Marital Status:\", demographicData[\"Marital-status\"].mode())\n",
    "        print(\"Mode Occupation:\", demographicData[\"Occupation\"].mode())\n",
    "        print(\"Mode Relationship Status:\", demographicData[\"Relationship\"].mode())\n",
    "        print(\"Avg Hours/week:\", demographicData[\"Hours/week\"].mean())\n",
    "        print(\"Mode Native Country:\", demographicData[\"Native_Country\"].mode())\n",
    "        print(\"Mode Result:\", demographicData[\"Result\"].mode())\n",
    "        print(\"\\n\")"
   ]
  },
  {
   "cell_type": "code",
   "execution_count": 439,
   "id": "placed-venice",
   "metadata": {
    "scrolled": true
   },
   "outputs": [
    {
     "name": "stdout",
     "output_type": "stream",
     "text": [
      " Male White\n",
      "Size: 25667\n",
      "Avg Age: 39.45720185452137\n",
      "Mode Workclass: 0     Private\n",
      "dtype: object\n",
      "Mode Education Num: 0    9\n",
      "dtype: int64\n",
      "Mode Marital Status: 0     Married-civ-spouse\n",
      "dtype: object\n",
      "Mode Occupation: 0     Craft-repair\n",
      "dtype: object\n",
      "Mode Relationship Status: 0     Husband\n",
      "dtype: object\n",
      "Avg Hours/week: 43.12428410020649\n",
      "Mode Native Country: 0     United-States\n",
      "dtype: object\n",
      "Mode Result: 0     <=50K\n",
      "dtype: object\n",
      "\n",
      "\n",
      " Male Black\n",
      "Size: 2050\n",
      "Avg Age: 37.91268292682927\n",
      "Mode Workclass: 0     Private\n",
      "dtype: object\n",
      "Mode Education Num: 0    9\n",
      "dtype: int64\n",
      "Mode Marital Status: 0     Married-civ-spouse\n",
      "dtype: object\n",
      "Mode Occupation: 0     Other-service\n",
      "dtype: object\n",
      "Mode Relationship Status: 0     Husband\n",
      "dtype: object\n",
      "Avg Hours/week: 40.3419512195122\n",
      "Mode Native Country: 0     United-States\n",
      "dtype: object\n",
      "Mode Result: 0     <=50K\n",
      "dtype: object\n",
      "\n",
      "\n",
      " Female White\n",
      "Size: 11256\n",
      "Avg Age: 36.84061833688699\n",
      "Mode Workclass: 0     Private\n",
      "dtype: object\n",
      "Mode Education Num: 0    9\n",
      "dtype: int64\n",
      "Mode Marital Status: 0     Never-married\n",
      "dtype: object\n",
      "Mode Occupation: 0     Adm-clerical\n",
      "dtype: object\n",
      "Mode Relationship Status: 0     Not-in-family\n",
      "dtype: object\n",
      "Avg Hours/week: 36.80792466240227\n",
      "Mode Native Country: 0     United-States\n",
      "dtype: object\n",
      "Mode Result: 0     <=50K\n",
      "dtype: object\n",
      "\n",
      "\n",
      " Male Asian-Pac-Islander\n",
      "Size: 833\n",
      "Avg Age: 39.070828331332535\n",
      "Mode Workclass: 0     Private\n",
      "dtype: object\n",
      "Mode Education Num: 0    13\n",
      "dtype: int64\n",
      "Mode Marital Status: 0     Married-civ-spouse\n",
      "dtype: object\n",
      "Mode Occupation: 0     Prof-specialty\n",
      "dtype: object\n",
      "Mode Relationship Status: 0     Husband\n",
      "dtype: object\n",
      "Avg Hours/week: 41.5078031212485\n",
      "Mode Native Country: 0     United-States\n",
      "dtype: object\n",
      "Mode Result: 0     <=50K\n",
      "dtype: object\n",
      "\n",
      "\n",
      " Male Amer-Indian-Eskimo\n",
      "Size: 260\n",
      "Avg Age: 36.11923076923077\n",
      "Mode Workclass: 0     Private\n",
      "dtype: object\n",
      "Mode Education Num: 0    9\n",
      "dtype: int64\n",
      "Mode Marital Status: 0     Married-civ-spouse\n",
      "dtype: object\n",
      "Mode Occupation: 0     Craft-repair\n",
      "dtype: object\n",
      "Mode Relationship Status: 0     Husband\n",
      "dtype: object\n",
      "Avg Hours/week: 42.646153846153844\n",
      "Mode Native Country: 0     United-States\n",
      "dtype: object\n",
      "Mode Result: 0     <=50K\n",
      "dtype: object\n",
      "\n",
      "\n",
      " Female Black\n",
      "Size: 1978\n",
      "Avg Age: 38.148129423660265\n",
      "Mode Workclass: 0     Private\n",
      "dtype: object\n",
      "Mode Education Num: 0    9\n",
      "dtype: int64\n",
      "Mode Marital Status: 0     Never-married\n",
      "dtype: object\n",
      "Mode Occupation: 0     Adm-clerical\n",
      "dtype: object\n",
      "Mode Relationship Status: 0     Unmarried\n",
      "dtype: object\n",
      "Avg Hours/week: 37.359959555106165\n",
      "Mode Native Country: 0     United-States\n",
      "dtype: object\n",
      "Mode Result: 0     <=50K\n",
      "dtype: object\n",
      "\n",
      "\n",
      " Female Other\n",
      "Size: 122\n",
      "Avg Age: 31.60655737704918\n",
      "Mode Workclass: 0     Private\n",
      "dtype: object\n",
      "Mode Education Num: 0    10\n",
      "dtype: int64\n",
      "Mode Marital Status: 0     Never-married\n",
      "dtype: object\n",
      "Mode Occupation: 0     Adm-clerical\n",
      "dtype: object\n",
      "Mode Relationship Status: 0     Not-in-family\n",
      "dtype: object\n",
      "Avg Hours/week: 36.78688524590164\n",
      "Mode Native Country: 0     United-States\n",
      "dtype: object\n",
      "Mode Result: 0     <=50K\n",
      "dtype: object\n",
      "\n",
      "\n",
      " Female Asian-Pac-Islander\n",
      "Size: 418\n",
      "Avg Age: 36.035885167464116\n",
      "Mode Workclass: 0     Private\n",
      "dtype: object\n",
      "Mode Education Num: 0    13\n",
      "dtype: int64\n",
      "Mode Marital Status: 0     Never-married\n",
      "dtype: object\n",
      "Mode Occupation: 0     Adm-clerical\n",
      "dtype: object\n",
      "Mode Relationship Status: 0     Not-in-family\n",
      "dtype: object\n",
      "Avg Hours/week: 37.94497607655502\n",
      "Mode Native Country: 0     United-States\n",
      "dtype: object\n",
      "Mode Result: 0     <=50K\n",
      "dtype: object\n",
      "\n",
      "\n",
      " Female Amer-Indian-Eskimo\n",
      "Size: 158\n",
      "Avg Age: 36.38607594936709\n",
      "Mode Workclass: 0     Private\n",
      "dtype: object\n",
      "Mode Education Num: 0    9\n",
      "dtype: int64\n",
      "Mode Marital Status: 0     Never-married\n",
      "dtype: object\n",
      "Mode Occupation: 0     Adm-clerical\n",
      "dtype: object\n",
      "Mode Relationship Status: 0     Unmarried\n",
      "dtype: object\n",
      "Avg Hours/week: 37.65822784810127\n",
      "Mode Native Country: 0     United-States\n",
      "dtype: object\n",
      "Mode Result: 0     <=50K\n",
      "dtype: object\n",
      "\n",
      "\n",
      " Male Other\n",
      "Size: 218\n",
      "Avg Age: 35.18348623853211\n",
      "Mode Workclass: 0     Private\n",
      "dtype: object\n",
      "Mode Education Num: 0    9\n",
      "dtype: int64\n",
      "Mode Marital Status: 0     Married-civ-spouse\n",
      "dtype: object\n",
      "Mode Occupation: 0     Craft-repair\n",
      "dtype: object\n",
      "Mode Relationship Status: 0     Husband\n",
      "dtype: object\n",
      "Avg Hours/week: 41.55045871559633\n",
      "Mode Native Country: 0     United-States\n",
      "dtype: object\n",
      "Mode Result: 0     <=50K\n",
      "dtype: object\n",
      "\n",
      "\n"
     ]
    }
   ],
   "source": [
    "analyseData(combined)"
   ]
  },
  {
   "cell_type": "code",
   "execution_count": 366,
   "id": "bibliographic-smell",
   "metadata": {},
   "outputs": [],
   "source": [
    "def encode(data):\n",
    "    for column in data.columns:\n",
    "        if data[column].dtypes == \"object\":\n",
    "        #Create a label encoder\n",
    "            lE = sklPp.LabelEncoder()\n",
    "            data[column] = lE.fit_transform(data[column])\n",
    "            mapping = dict(zip(lE.classes_, lE.transform(lE.classes_)))\n",
    "            print(column,mapping)\n",
    "    return data"
   ]
  },
  {
   "cell_type": "code",
   "execution_count": 551,
   "id": "available-network",
   "metadata": {},
   "outputs": [
    {
     "name": "stdout",
     "output_type": "stream",
     "text": [
      "Workclass {' Federal-gov': 0, ' Local-gov': 1, ' Private': 2, ' Self-emp-inc': 3, ' Self-emp-not-inc': 4, ' State-gov': 5, ' Without-pay': 6}\n",
      "Marital-status {' Divorced': 0, ' Married-AF-spouse': 1, ' Married-civ-spouse': 2, ' Married-spouse-absent': 3, ' Never-married': 4, ' Separated': 5, ' Widowed': 6}\n",
      "Occupation {' Adm-clerical': 0, ' Armed-Forces': 1, ' Craft-repair': 2, ' Exec-managerial': 3, ' Farming-fishing': 4, ' Handlers-cleaners': 5, ' Machine-op-inspct': 6, ' Other-service': 7, ' Priv-house-serv': 8, ' Prof-specialty': 9, ' Protective-serv': 10, ' Sales': 11, ' Tech-support': 12, ' Transport-moving': 13}\n",
      "Relationship {' Husband': 0, ' Not-in-family': 1, ' Other-relative': 2, ' Own-child': 3, ' Unmarried': 4, ' Wife': 5}\n",
      "Native_Country {' Cambodia': 0, ' Canada': 1, ' China': 2, ' Columbia': 3, ' Cuba': 4, ' Dominican-Republic': 5, ' Ecuador': 6, ' El-Salvador': 7, ' England': 8, ' France': 9, ' Germany': 10, ' Greece': 11, ' Guatemala': 12, ' Haiti': 13, ' Holand-Netherlands': 14, ' Honduras': 15, ' Hong': 16, ' Hungary': 17, ' India': 18, ' Iran': 19, ' Ireland': 20, ' Italy': 21, ' Jamaica': 22, ' Japan': 23, ' Laos': 24, ' Mexico': 25, ' Nicaragua': 26, ' Outlying-US(Guam-USVI-etc)': 27, ' Peru': 28, ' Philippines': 29, ' Poland': 30, ' Portugal': 31, ' Puerto-Rico': 32, ' Scotland': 33, ' South': 34, ' Taiwan': 35, ' Thailand': 36, ' Trinadad&Tobago': 37, ' United-States': 38, ' Vietnam': 39, ' Yugoslavia': 40}\n",
      "Result {' <=50K': 0, ' >50K': 1}\n",
      "Sex_Race {' Female Amer-Indian-Eskimo': 0, ' Female Asian-Pac-Islander': 1, ' Female Black': 2, ' Female Other': 3, ' Female White': 4, ' Male Amer-Indian-Eskimo': 5, ' Male Asian-Pac-Islander': 6, ' Male Black': 7, ' Male Other': 8, ' Male White': 9}\n",
      "Variety of Sex/Race \n",
      " 9    25667\n",
      "4    11256\n",
      "7     2050\n",
      "2     1978\n",
      "6      833\n",
      "1      418\n",
      "5      260\n",
      "8      218\n",
      "0      158\n",
      "3      122\n",
      "Name: Sex_Race, dtype: int64\n"
     ]
    }
   ],
   "source": [
    "encoded = encode(combined)\n",
    "sexRaceVariety = encoded['Sex_Race'].value_counts()\n",
    "print(\"Variety of Sex/Race \\n\",sexRaceVariety)"
   ]
  },
  {
   "cell_type": "code",
   "execution_count": 368,
   "id": "spectacular-gabriel",
   "metadata": {},
   "outputs": [],
   "source": [
    "#Useful for debug\n",
    "fileSystem = os.path.join(os.getcwd(),\"encoded.csv\")\n",
    "encoded.to_csv(fileSystem, index = False, header=True)"
   ]
  },
  {
   "cell_type": "code",
   "execution_count": 545,
   "id": "native-trainer",
   "metadata": {},
   "outputs": [],
   "source": [
    "def splitData(data):\n",
    "    #x = data.iloc[:,[True,True,True,True,True,True,True,True,True,True,False,True]]\n",
    "    #y = data.iloc[:,10]\n",
    "    y = data['Result']\n",
    "    x = data.drop(['Result'],axis =1)\n",
    "    xTrain,xTest,yTrain,yTest = train_test_split(x, y, test_size=0.30)\n",
    "    #valueIndexs = data.sample(frac = 0.7).index.values\n",
    "    #train = data.iloc[valueIndexs]\n",
    "    #test = data.drop(valueIndexs)\n",
    "    #yTrain = train['Result']\n",
    "    #yTest = test['Result']\n",
    "    #xTrain = train.drop(['Result'],axis=1)\n",
    "    #xTest = test.drop(['Result'],axis=1)\n",
    "    return xTrain,xTest,yTrain,yTest "
   ]
  },
  {
   "cell_type": "code",
   "execution_count": 559,
   "id": "sitting-funeral",
   "metadata": {},
   "outputs": [],
   "source": [
    "\n"
   ]
  },
  {
   "cell_type": "code",
   "execution_count": 606,
   "id": "subjective-ceiling",
   "metadata": {},
   "outputs": [],
   "source": [
    "def biasModel(xTrain,xTest,yTrain,yTest,data):\n",
    "    #class_weight = \"balanced\"\n",
    "    #class_weight = \"balanced\",bootstrap= True,max_features = 1,n_estimators = 50\n",
    "    model = RandomForestClassifier(class_weight = \"balanced\",bootstrap= True,max_features = 1,n_estimators = 50).fit(xTrain, yTrain)\n",
    "    \n",
    "    #Commented out to improve speed, best features from this added to the model \n",
    "    #n_estimators = np.array([50,100,150,200,250])\n",
    "    #max_features = np.array([1,2,3,4,5])\n",
    "    #bootstrap = np.array([True,False])\n",
    "    #parameterGrid = dict(n_estimators=n_estimators,max_features=max_features,bootstrap = bootstrap)\n",
    "    #grid = GridSearchCV(estimator=model, param_grid=parameterGrid, scoring=matthews_corrcoef)\n",
    "    #results = grid.fit(xTrain, yTrain)\n",
    "    #print(results.best_score_, results.best_params_)\n",
    "    \n",
    "    \n",
    "    testPredictions = list(model.predict(xTest))\n",
    "    accuracy = accuracy_score(testPredictions , yTest)\n",
    "    #print(testPredictions,yTest)\n",
    "    combined = []\n",
    "    rowList = data.values.tolist()\n",
    "    #print(rowList[:10])\n",
    "    for i in range(0,len(testPredictions)):\n",
    "        combined.append(rowList[i] + [testPredictions[i]])\n",
    "    print(\"Accuracy\",accuracy)\n",
    "    return combined"
   ]
  },
  {
   "cell_type": "code",
   "execution_count": 745,
   "id": "possible-bonus",
   "metadata": {},
   "outputs": [],
   "source": [
    "xTrain,xTest,yTrain,yTest = splitData(encoded)"
   ]
  },
  {
   "cell_type": "code",
   "execution_count": 790,
   "id": "major-hygiene",
   "metadata": {
    "scrolled": false
   },
   "outputs": [
    {
     "name": "stdout",
     "output_type": "stream",
     "text": [
      "Accuracy 0.6902249806051203\n",
      "Fairness 0.9984778760561697\n"
     ]
    },
    {
     "data": {
      "image/png": "[encoded data removed]",
      "text/plain": [
       "<Figure size 2880x720 with 1 Axes>"
      ]
     },
     "metadata": {
      "needs_background": "light"
     },
     "output_type": "display_data"
    }
   ],
   "source": [
    "results = biasModel(xTrain,xTest,yTrain,yTest,encoded)\n",
    "evaluateFairness(results)  \n",
    "barChart(results)\n",
    "#RandomForest = 0.58697\n",
    "#MLP = 0.1697\n",
    "#Dec tree = 0.4830\n",
    "#Ridge = 0.442\n",
    "#Logistic = 0.28\n",
    "#QDA = 0.371\n",
    "#adaboost = 0.588\n"
   ]
  },
  {
   "cell_type": "code",
   "execution_count": 702,
   "id": "unexpected-comedy",
   "metadata": {},
   "outputs": [],
   "source": [
    "def barChart(results):\n",
    "    encoding = [' Female Amer-Indian-Eskimo', ' Female Asian-Pac-Islander', ' Female Black', ' Female Other', ' Female White', ' Male Amer-Indian-Eskimo', ' Male Asian-Pac-Islander', ' Male Black', ' Male Other', ' Male White']\n",
    "    scoresBySexRace = {}\n",
    "    for word in encoding:\n",
    "        scoresBySexRace[word] = [0,0]\n",
    "    for result in results:\n",
    "        name = encoding[result[-2]]\n",
    "        outcome = result[-1]\n",
    "        scoresBySexRace[name][outcome] += 1\n",
    "    plt.rcParams[\"figure.figsize\"] = (40, 10)\n",
    "    values = list(scoresBySexRace.values())\n",
    "    x = [name.replace(' ', '\\n') for name in encoding]\n",
    "    x = [name.replace('-', '\\n') for name in x]\n",
    "    graphValues = []\n",
    "    maleAvg = 0\n",
    "    femaleAvg = 0\n",
    "    for value in values:\n",
    "        graphValues.append((value[1]/(sum(value)))*100)\n",
    "\n",
    "    x_pos = [i for i, _ in enumerate(x)]\n",
    "    \n",
    "    plt.bar(x_pos, graphValues, color='teal')\n",
    "    # plotting a line plot after changing it's width and height\n",
    "    plt.xlabel(\"Sex/Race\",fontsize = 40)\n",
    "    plt.ylabel(\"Acceptance Rate\",fontsize = 40)\n",
    "    plt.title(\"Acceptance Rate by Sex/Race\",fontsize = 40)\n",
    "   \n",
    "    plt.xticks(x_pos, x,fontsize=40)\n",
    "    plt.yticks(fontsize = 30)\n",
    "    plt.show()"
   ]
  },
  {
   "cell_type": "code",
   "execution_count": 798,
   "id": "funky-express",
   "metadata": {},
   "outputs": [],
   "source": [
    "def resampleData(data):\n",
    "    #For sex-race, going to pick 70% for training data, 30% for test\n",
    "    possibleValues = data['Age'].unique()\n",
    "    indexs = []\n",
    "    for value in possibleValues:\n",
    "        columns = data.loc[data['Age'] == value]\n",
    "        #Create \n",
    "        valueIndexs = columns.sample(frac = 0.7).index.values\n",
    "        indexs.extend(valueIndexs)\n",
    "    train = data.iloc[indexs]\n",
    "    test = data.drop(indexs)\n",
    "    yTrain = train['Result']\n",
    "    yTest = test['Result']\n",
    "    xTrain = train.drop(['Result'],axis=1)\n",
    "    xTest = test.drop(['Result'],axis=1)\n",
    "    \n",
    "   #print(len(xTest.index),len(yTest.index))\n",
    "    return xTrain,xTest,yTrain,yTest"
   ]
  },
  {
   "cell_type": "code",
   "execution_count": null,
   "id": "bored-safety",
   "metadata": {},
   "outputs": [],
   "source": []
  },
  {
   "cell_type": "code",
   "execution_count": 799,
   "id": "christian-cardiff",
   "metadata": {},
   "outputs": [
    {
     "name": "stdout",
     "output_type": "stream",
     "text": [
      "Accuracy 0.7058960434445306\n",
      "Fairness 1.0076354517696975\n",
      "\n",
      "\n",
      "Accuracy 0.708611326609775\n",
      "Fairness 1.0019692017969521\n",
      "\n",
      "\n",
      "Accuracy 0.7017067494181536\n",
      "Fairness 1.0019286225924016\n",
      "\n",
      "\n",
      "Accuracy 0.6986035686578743\n",
      "Fairness 1.0067261545692183\n",
      "\n",
      "\n",
      "Accuracy 0.7027152831652443\n",
      "Fairness 0.9961862613752999\n",
      "\n",
      "\n",
      "Accuracy 0.7069821567106284\n",
      "Fairness 1.0186052624566044\n",
      "\n",
      "\n",
      "Accuracy 0.7051202482544608\n",
      "Fairness 0.9945541092400262\n",
      "\n",
      "\n",
      "Accuracy 0.7062839410395656\n",
      "Fairness 1.0066132999655177\n",
      "\n",
      "\n",
      "Accuracy 0.7073700543056634\n",
      "Fairness 0.9888903828496535\n",
      "\n",
      "\n",
      "Accuracy 0.7039565554693561\n",
      "Fairness 0.9898085630600839\n",
      "\n",
      "\n"
     ]
    }
   ],
   "source": [
    "for i in range(0,10):\n",
    "    xTrain2,xTest2,yTrain2,yTest2 = resampleData(encoded)\n",
    "    results2 = biasModel(xTrain2,xTest2,yTrain2,yTest2,encoded)\n",
    "    evaluateFairness(results2)   \n",
    "    print(\"\\n\")\n",
    "    #barChart(results2)"
   ]
  },
  {
   "cell_type": "code",
   "execution_count": 571,
   "id": "bottom-windsor",
   "metadata": {},
   "outputs": [],
   "source": [
    "def evaluateFairness(results):\n",
    "    #Defining privleged as white male/female\n",
    "    #None-Priv as others\n",
    "    priviliged = [4,9]\n",
    "   \n",
    "    privProb = 0\n",
    "    privCount = 0\n",
    "    nonPrivProb = 0\n",
    "    nonPrivCount = 0 \n",
    "    for result in results:\n",
    "        if result[-2] in priviliged:\n",
    "            privCount += 1\n",
    "            if result[-1] == 1:\n",
    "                privProb += 1\n",
    "        else:\n",
    "            nonPrivCount += 1\n",
    "            if result[-1] == 1:\n",
    "                nonPrivProb +=1\n",
    "    privProb = privProb/privCount\n",
    "    nonPrivProb = nonPrivProb/nonPrivCount\n",
    "    #fairness = nonPrivProb/privProb\n",
    "    fairness = 1-(privProb-nonPrivProb)\n",
    "    print(\"Fairness\",fairness)"
   ]
  },
  {
   "cell_type": "code",
   "execution_count": 572,
   "id": "sophisticated-cliff",
   "metadata": {},
   "outputs": [
    {
     "name": "stdout",
     "output_type": "stream",
     "text": [
      "Fairness 0.9952023385302694\n"
     ]
    }
   ],
   "source": [
    "evaluateFairness(results)    "
   ]
  },
  {
   "cell_type": "code",
   "execution_count": 380,
   "id": "explicit-performance",
   "metadata": {},
   "outputs": [],
   "source": [
    "def test(data_df):\n",
    "    repair_level = 1\n",
    "    types = data_df.dtypes\n",
    "    data = data_df.values.tolist()\n",
    "    index_to_repair = data_df.columns.get_loc('Sex_Race')\n",
    "    headers = data_df.columns.tolist()\n",
    "    repairer = Repairer(data, index_to_repair, repair_level, False)\n",
    "    data = repairer.repair(data)\n",
    "\n",
    "    # The repaired data no longer includes its headers.\n",
    "    data_df = pd.DataFrame(data, columns = headers)\n",
    "    data_df = data_df.astype(dtype=types)\n",
    "    print(data_df.head(30))\n",
    "    return data_df"
   ]
  },
  {
   "cell_type": "code",
   "execution_count": 381,
   "id": "atmospheric-credits",
   "metadata": {
    "scrolled": true
   },
   "outputs": [],
   "source": [
    "#print(encoded)\n",
    "#xTrain2,xTest2,yTrain2,yTest2 = resampleData(encoded)\n",
    "#testXTrain = test(xTrain2)\n",
    "#testYTrain = test(yTrain2)\n",
    "#results = biasModel(testXTrain,xTest2,yTrain2,yTest2,encoded)\n",
    "#evaluateFairness(results)   "
   ]
  },
  {
   "cell_type": "code",
   "execution_count": 780,
   "id": "foreign-citizen",
   "metadata": {},
   "outputs": [],
   "source": [
    "def removeDisImpact(sensitiveAttribute,data):\n",
    "    uniqueSensAtts = data[sensitiveAttribute].unique()\n",
    "    for column in data.columns:\n",
    "        \n",
    "        if column != sensitiveAttribute and column != \"Result\":\n",
    "            #print(column)\n",
    "            newValues = repairColumn(data,data[column],sensitiveAttribute,uniqueSensAtts)\n",
    "            data[column] = newValues\n",
    "    data = data.drop(sensitiveAttribute,axis = 1)\n",
    "    return data"
   ]
  },
  {
   "cell_type": "code",
   "execution_count": 781,
   "id": "cloudy-carroll",
   "metadata": {},
   "outputs": [],
   "source": [
    "def repairColumn(data,column,sensAttr,uniqueSensAtts):\n",
    "    medianMean,medianSTDs = getMeans(data,column,sensAttr,uniqueSensAtts)\n",
    "    newValues = []\n",
    "    for value in uniqueSensAtts:\n",
    "        oldMedian = getMedian(data,column,sensAttr,value)\n",
    "        columnValues = column.loc[data[sensAttr] == value].values\n",
    "        #print(columnValues)\n",
    "        for colVal in columnValues:\n",
    "           \n",
    "            percentile = stats.percentileofscore(columnValues, colVal)\n",
    "        \n",
    "            percentile /= 100\n",
    "            #Removes rounding errors \n",
    "            percentile = max(percentile,0.01)\n",
    "            percentile = min(percentile,0.99)\n",
    "           # print(colVal,percentile)\n",
    "            newScore = NormalDist(mu=medianMean, sigma=medianSTDs).inv_cdf(percentile)\n",
    "            #newScore = stats.invnorm.pdf(percentile,medianMean,loc=medianSTDs)\n",
    "            #invnorm.pdf(x,mu,loc=0,scale=1)\n",
    "            #print(newScore)\n",
    "            #newScore = stats.scoreatpercentile(means,percentile)\n",
    "            newValues.append(int(round(newScore,0)))\n",
    "    return newValues\n",
    "    "
   ]
  },
  {
   "cell_type": "code",
   "execution_count": 782,
   "id": "potential-highway",
   "metadata": {},
   "outputs": [],
   "source": [
    "def getMedian(data,column,sensAttr,value):\n",
    "    values = column.loc[data[sensAttr] == value].values\n",
    "    values.sort()\n",
    "    median = int((values[len(values)//2]).round()) \n",
    "    return median"
   ]
  },
  {
   "cell_type": "code",
   "execution_count": 783,
   "id": "efficient-homeless",
   "metadata": {},
   "outputs": [],
   "source": [
    "def getMeans(data,column,sensAttr,uniqueSensAtts):\n",
    "    means = []\n",
    "    stds = []\n",
    "    for value in uniqueSensAtts:\n",
    "        total = sum(column.loc[data[sensAttr] == value].values)\n",
    "        mean = total/len(column.loc[data[sensAttr] == value].index)\n",
    "        means.append(mean)\n",
    "        std = np.std(column.loc[data[sensAttr] == value].values)\n",
    "        stds.append(std)\n",
    "    means.sort()\n",
    "    stds.sort()\n",
    "    medianMean = int((means[len(means)//2]).round())\n",
    "    stdsMean = max(int((stds[len(stds)//2]).round()),0.01)\n",
    "    return medianMean,stdsMean    "
   ]
  },
  {
   "cell_type": "code",
   "execution_count": 804,
   "id": "desirable-server",
   "metadata": {
    "scrolled": false
   },
   "outputs": [
    {
     "name": "stdout",
     "output_type": "stream",
     "text": [
      "Accuracy 0.6914662529092319\n",
      "Fairness 1.0037433811481533\n",
      "\n",
      "\n"
     ]
    },
    {
     "data": {
      "image/png": "[encoded data removed]",
      "text/plain": [
       "<Figure size 2880x720 with 1 Axes>"
      ]
     },
     "metadata": {
      "needs_background": "light"
     },
     "output_type": "display_data"
    }
   ],
   "source": [
    "#print(encoded2.head(10))\n",
    "#print(\"Pre\")\n",
    "#fixed = removeDisImpact(\"Sex_Race\",encoded2)\n",
    "xTrain,xTest,yTrain,yTest = resampleData(fixed)\n",
    "#print(xTrain.head(10))\n",
    "xTrain = removeDisImpact(\"Sex_Race\",xTrain)\n",
    "xTest = removeDisImpact(\"Sex_Race\",xTest)\n",
    "#print(\"Post\",xTrain.head(10),\"Y\",yTrain.head(15))\n",
    "#print(\"=========================================\")\n",
    "#testYTrain = test(yTrain2)\n",
    "#yTrain = removeDisImpact(\"Sex_Race\",xTrain)\n",
    "fixedResults = biasModel(xTrain,xTest,yTrain,yTest,encoded)\n",
    "#print(\"Results \\n)\",results[:10])\n",
    "evaluateFairness(fixedResults)   \n",
    "print(\"\\n\")\n",
    "barChart(fixedResults)"
   ]
  },
  {
   "cell_type": "code",
   "execution_count": null,
   "id": "flexible-uncle",
   "metadata": {},
   "outputs": [],
   "source": []
  },
  {
   "cell_type": "code",
   "execution_count": null,
   "id": "interim-conflict",
   "metadata": {},
   "outputs": [],
   "source": []
  }
 ],
 "metadata": {
  "kernelspec": {
   "display_name": "Python 3",
   "language": "python",
   "name": "python3"
  },
  "language_info": {
   "codemirror_mode": {
    "name": "ipython",
    "version": 3
   },
   "file_extension": ".py",
   "mimetype": "text/x-python",
   "name": "python",
   "nbconvert_exporter": "python",
   "pygments_lexer": "ipython3",
   "version": "3.9.2"
  }
 },
 "nbformat": 4,
 "nbformat_minor": 5
}
